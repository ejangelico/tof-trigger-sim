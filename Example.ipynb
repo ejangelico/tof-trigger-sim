{
 "cells": [
  {
   "cell_type": "code",
   "execution_count": 1,
   "id": "dd11d2aa",
   "metadata": {},
   "outputs": [],
   "source": [
    "import numpy as np \n",
    "import matplotlib.pyplot as plt \n",
    "\n",
    "import DAQSimulator\n",
    "import EventGenerator\n",
    "import LAPPDStation\n",
    "\n",
    "#plt.style.use(\"~/evanstyle.mplstyle\")"
   ]
  },
  {
   "cell_type": "code",
   "execution_count": 14,
   "id": "aad0ac19",
   "metadata": {},
   "outputs": [],
   "source": [
    "egen = EventGenerator.EventGenerator(\"configs/example.yml\")\n",
    "eLAPPD1 = LAPPDStation.LAPPDStation(\"configs/example.yml\")"
   ]
  },
  {
   "cell_type": "code",
   "execution_count": 15,
   "id": "2476efdd",
   "metadata": {},
   "outputs": [],
   "source": [
    "egen.generate_particle_times(1)\n",
    "eLAPPD1.generate_noise_times(1)\n",
    "eLAPPD1.reconcile_times(egen, 1)"
   ]
  },
  {
   "cell_type": "code",
   "execution_count": 21,
   "id": "413f5b3a",
   "metadata": {},
   "outputs": [
    {
     "data": {
      "text/plain": [
       "[<matplotlib.lines.Line2D at 0x7f8a338e2700>]"
      ]
     },
     "execution_count": 21,
     "metadata": {},
     "output_type": "execute_result"
    },
    {
     "data": {
      "image/png": "[encoded data removed]",
      "text/plain": [
       "<Figure size 432x288 with 1 Axes>"
      ]
     },
     "metadata": {
      "needs_background": "light"
     },
     "output_type": "display_data"
    }
   ],
   "source": [
    "plt.plot(eLAPPD1.allTimes[0])\n",
    "plt.plot(eLAPPD1.allDeadTimes[0])"
   ]
  },
  {
   "cell_type": "code",
   "execution_count": 22,
   "id": "5ce13d4f",
   "metadata": {},
   "outputs": [
    {
     "name": "stdout",
     "output_type": "stream",
     "text": [
      "Events saved: 6827 / 7958 = 0.85787886403619\n"
     ]
    }
   ],
   "source": [
    "eventsPassingTrigger = np.count_nonzero((eLAPPD1.eventClass[0] == 1) & eLAPPD1.passTrigger[0])\n",
    "eventsPassingTriggerAndSaved = np.count_nonzero((eLAPPD1.eventClass[0] == 1) & eLAPPD1.passTrigger[0] & eLAPPD1.acceptMasks[0])\n",
    "print(\"Events saved:\", eventsPassingTriggerAndSaved, \"/\", eventsPassingTrigger, \"=\", float(eventsPassingTriggerAndSaved)/eventsPassingTrigger)"
   ]
  },
  {
   "cell_type": "code",
   "execution_count": null,
   "id": "7521da5b",
   "metadata": {},
   "outputs": [],
   "source": []
  }
 ],
 "metadata": {
  "kernelspec": {
   "display_name": "Python 3 (ipykernel)",
   "language": "python",
   "name": "python3"
  },
  "language_info": {
   "codemirror_mode": {
    "name": "ipython",
    "version": 3
   },
   "file_extension": ".py",
   "mimetype": "text/x-python",
   "name": "python",
   "nbconvert_exporter": "python",
   "pygments_lexer": "ipython3",
   "version": "3.8.10"
  }
 },
 "nbformat": 4,
 "nbformat_minor": 5
}
